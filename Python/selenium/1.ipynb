{
 "cells": [
  {
   "cell_type": "markdown",
   "id": "10f70b28",
   "metadata": {},
   "source": [
    "## INTRO TO SELENIUM"
   ]
  },
  {
   "cell_type": "code",
   "execution_count": 8,
   "id": "e1b532c4",
   "metadata": {},
   "outputs": [],
   "source": [
    "from selenium import webdriver\n",
    "from selenium.webdriver.chrome.service import Service\n",
    "import time\n",
    "from selenium.webdriver.common.by import By"
   ]
  },
  {
   "cell_type": "code",
   "execution_count": null,
   "id": "6b088c28",
   "metadata": {},
   "outputs": [],
   "source": [
    "from selenium import webdriver\n",
    "from selenium.webdriver.chrome.service import Service\n",
    "from selenium.webdriver.common.by import By\n",
    "import time\n",
    "\n",
    "s = Service(\"Y:/CODIII/Journey/selenium/chromedriver.exe\")\n",
    "driver = webdriver.Chrome(service=s)\n",
    "driver.get(\"https://www.google.com/\")\n",
    "time.sleep(3)\n",
    "\n",
    "# Accept cookies if prompted (depending on region)\n",
    "try:\n",
    "    driver.find_element(By.ID, \"L2AGLb\").click()  # Consent popup (Google)\n",
    "except:\n",
    "    pass  # If not present, skip\n",
    "\n",
    "# Send text to the correct input field\n",
    "search_box = driver.find_element(By.NAME, \"q\")\n",
    "search_box.send_keys(\"Portugal\")\n",
    "  # Optional: to perform the search\n"
   ]
  },
  {
   "cell_type": "code",
   "execution_count": null,
   "id": "0346c5bd",
   "metadata": {},
   "outputs": [],
   "source": []
  }
 ],
 "metadata": {
  "kernelspec": {
   "display_name": ".venv",
   "language": "python",
   "name": "python3"
  },
  "language_info": {
   "codemirror_mode": {
    "name": "ipython",
    "version": 3
   },
   "file_extension": ".py",
   "mimetype": "text/x-python",
   "name": "python",
   "nbconvert_exporter": "python",
   "pygments_lexer": "ipython3",
   "version": "3.10.11"
  }
 },
 "nbformat": 4,
 "nbformat_minor": 5
}
