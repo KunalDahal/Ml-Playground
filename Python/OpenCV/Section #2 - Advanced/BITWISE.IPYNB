{
 "cells": [
  {
   "cell_type": "code",
   "execution_count": 4,
   "id": "636a3132",
   "metadata": {},
   "outputs": [
    {
     "data": {
      "text/plain": [
       "-1"
      ]
     },
     "execution_count": 4,
     "metadata": {},
     "output_type": "execute_result"
    }
   ],
   "source": [
    "import cv2 as cv\n",
    "import numpy as np\n",
    "\n",
    "blank=np.zeros((400,400),dtype='uint8')\n",
    "\n",
    "rectangle=cv.rectangle(blank.copy(),(30,30),(370,370),255,-1)\n",
    "circle=cv.circle(blank.copy(),(200,200),200,255,-1)\n",
    "\n",
    "cv.imshow('Rectangle',rectangle)\n",
    "cv.imshow('Circle',circle)\n",
    "\n",
    "# bitwise_and=cv.bitwise_and(rectangle,circle)\n",
    "bitwise_and=cv.bitwise_and(circle,rectangle)\n",
    "\n",
    "bitwise_or = cv.bitwise_or(circle,rectangle)\n",
    "bitwise_xor = cv.bitwise_xor(circle,rectangle)\n",
    "bitwise_not = cv.bitwise_not(circle,rectangle)\n",
    "\n",
    "\n",
    "cv.imshow('Bitwise_And',bitwise_and)\n",
    "cv.imshow('Bitwise_or',bitwise_or)\n",
    "cv.imshow('Bitwise_xor',bitwise_xor)\n",
    "cv.imshow('Bitwise_not',bitwise_not)\n",
    "\n",
    "\n",
    "cv.waitKey(0)"
   ]
  }
 ],
 "metadata": {
  "kernelspec": {
   "display_name": ".venv",
   "language": "python",
   "name": "python3"
  },
  "language_info": {
   "codemirror_mode": {
    "name": "ipython",
    "version": 3
   },
   "file_extension": ".py",
   "mimetype": "text/x-python",
   "name": "python",
   "nbconvert_exporter": "python",
   "pygments_lexer": "ipython3",
   "version": "3.10.11"
  }
 },
 "nbformat": 4,
 "nbformat_minor": 5
}
