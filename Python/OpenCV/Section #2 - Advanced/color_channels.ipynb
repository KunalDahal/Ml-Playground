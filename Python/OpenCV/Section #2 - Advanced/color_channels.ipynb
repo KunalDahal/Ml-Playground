{
 "cells": [
  {
   "cell_type": "code",
   "execution_count": 1,
   "id": "90e60d92",
   "metadata": {},
   "outputs": [
    {
     "name": "stdout",
     "output_type": "stream",
     "text": [
      "(720, 1280, 3)\n",
      "(720, 1280)\n",
      "(720, 1280)\n",
      "(720, 1280)\n"
     ]
    },
    {
     "data": {
      "text/plain": [
       "-1"
      ]
     },
     "execution_count": 1,
     "metadata": {},
     "output_type": "execute_result"
    }
   ],
   "source": [
    "import cv2 as cv\n",
    "import numpy as np \n",
    "\n",
    "img=cv.imread('wall3.jpg')\n",
    "cv.imshow(\"Normal\",img)\n",
    "\n",
    "blank=np.zeros(img.shape[:2],dtype='uint8')\n",
    "b,g,r=cv.split(img)\n",
    "cv.imshow('Blue',b)\n",
    "cv.imshow('Green',g)\n",
    "cv.imshow('Red',r)\n",
    "\n",
    "blue=cv.merge([b,blank,blank])\n",
    "green=cv.merge([blank,g,blank])\n",
    "red=cv.merge([blank,blank,r])\n",
    "\n",
    "cv.imshow('Blue',blue)\n",
    "cv.imshow('Green',green)\n",
    "cv.imshow('Red',red)\n",
    "\n",
    "print(img.shape)\n",
    "print(b.shape)\n",
    "print(g.shape)\n",
    "print(r.shape)\n",
    "\n",
    "cv.waitKey(0)\n"
   ]
  }
 ],
 "metadata": {
  "kernelspec": {
   "display_name": "Python 3",
   "language": "python",
   "name": "python3"
  },
  "language_info": {
   "codemirror_mode": {
    "name": "ipython",
    "version": 3
   },
   "file_extension": ".py",
   "mimetype": "text/x-python",
   "name": "python",
   "nbconvert_exporter": "python",
   "pygments_lexer": "ipython3",
   "version": "3.10.11"
  }
 },
 "nbformat": 4,
 "nbformat_minor": 5
}
